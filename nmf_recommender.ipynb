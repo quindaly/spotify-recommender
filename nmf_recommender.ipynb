{
 "cells": [
  {
   "cell_type": "markdown",
   "metadata": {},
   "source": [
    "# Spotify Recommender using Nonnegative Matrix Factorization"
   ]
  },
  {
   "cell_type": "code",
   "execution_count": 1,
   "metadata": {},
   "outputs": [],
   "source": [
    "import numpy as np\n",
    "import pandas as pd\n",
    "from sklearn.decomposition import NMF\n",
    "from sklearn.metrics import mean_squared_error"
   ]
  },
  {
   "cell_type": "code",
   "execution_count": 10,
   "metadata": {},
   "outputs": [],
   "source": [
    "import warnings\n",
    "warnings.filterwarnings('ignore')"
   ]
  },
  {
   "cell_type": "markdown",
   "metadata": {},
   "source": [
    "- Create an NMF Recommender Class from scratch"
   ]
  },
  {
   "cell_type": "code",
   "execution_count": 2,
   "metadata": {},
   "outputs": [],
   "source": [
    "class NMFRecommender:\n",
    "    def __init__(self, random_state=15, tol=1e-3, maxiter=200, rank=3):\n",
    "        \"\"\"The parameter values for the algorithm\"\"\"\n",
    "        self.random_state = random_state\n",
    "        self.tol = tol\n",
    "        self.maxiter = maxiter\n",
    "        self.rank = rank\n",
    "  \n",
    "       \n",
    "    def initialize_matrices(self, m, n):\n",
    "        \"\"\"Initialize the W and H matrices\"\"\"\n",
    "        # Set random seed\n",
    "        np.random.seed(self.random_state)\n",
    "        \n",
    "        # Initialize W and H using random numbers between 0 and 1\n",
    "        self.W = np.random.random((m, self.rank))\n",
    "        self.H = np.random.random((self.rank, n))\n",
    "        \n",
    "        return self.W, self.H\n",
    "        \n",
    "    def compute_loss(self, V, W, H):\n",
    "        \"\"\"Computes the loss of the algorithm according to the frobenius norm\"\"\"\n",
    "        loss = np.linalg.norm(V - (W @ H), ord='fro')\n",
    "        \n",
    "        return loss\n",
    "    \n",
    "    def update_matrices(self, V, W, H):\n",
    "        \"\"\"The multiplicative update step to update W and H\"\"\"\n",
    "        # Initialize\n",
    "        new_H = H\n",
    "        new_W = W\n",
    "        \n",
    "        # Perform the update step once\n",
    "        # Update H first\n",
    "        for i in range(H.shape[0]):\n",
    "            for j in range(H.shape[1]):\n",
    "                new_H[i,j] = H[i,j] * ((W.T @ V)[i,j] / (W.T @ W @ H)[i,j])\n",
    "         # Use the update from H to update W       \n",
    "        for i in range(W.shape[0]):\n",
    "            for j in range(W.shape[1]):\n",
    "                new_W[i,j] = W[i,j] * ((V @ new_H.T)[i,j] / (W @ new_H @ new_H.T)[i,j])           \n",
    "        \n",
    "        return new_W, new_H\n",
    "      \n",
    "    def fit(self, V):\n",
    "        \"\"\"Fits W and H weight matrices according to the multiplicative update \n",
    "        algorithm. Return W and H\"\"\"\n",
    "        \n",
    "        # Initialize\n",
    "        m,n = V.shape\n",
    "        W, H = self.initialize_matrices(m, n)\n",
    "        diff = np.inf\n",
    "        iterations = 0\n",
    "        \n",
    "        # Run the update until either condition is met\n",
    "        while diff > self.tol and iterations < self.maxiter:\n",
    "            new_W, new_H = self.update_matrices(V,W,H)\n",
    "            \n",
    "            # increment\n",
    "            diff = self.compute_loss(V, new_W, new_H)\n",
    "            H = new_H\n",
    "            W = new_W\n",
    "            iterations += 1\n",
    "            \n",
    "        return new_W, new_H\n",
    "        \n",
    "    def reconstruct(self, W, H):\n",
    "        \"\"\"Reconstructs the V matrix for comparison against the original V \n",
    "        matrix\"\"\"\n",
    "        \n",
    "        return W @ H"
   ]
  },
  {
   "cell_type": "markdown",
   "metadata": {},
   "source": [
    "- Test out the class on the grocery store example"
   ]
  },
  {
   "cell_type": "code",
   "execution_count": 4,
   "metadata": {},
   "outputs": [],
   "source": [
    "def groceries():\n",
    "    \"\"\"Run NMF recommender on the grocery store example\"\"\"\n",
    "    V = np.array([[0,1,0,1,2,2], # Rows are grocery items\n",
    "                  [2,3,1,1,2,2], # Columns are customers\n",
    "                  [1,1,1,0,1,1],\n",
    "                  [0,2,3,4,1,1],\n",
    "                  [0,0,0,0,1,0]])\n",
    "    \n",
    "    # Fit the NMFRecommender to the data V\n",
    "    nmf = NMFRecommender(rank=2)\n",
    "    W, H = nmf.fit(V)\n",
    "    \n",
    "    # Find number of people with higher weights for comp 2\n",
    "    higher_2 = 0\n",
    "    for j in range(H.shape[1]):\n",
    "        if H[1,j] > H[0,j]:\n",
    "            higher_2 += 1\n",
    "    \n",
    "    return W, H, higher_2"
   ]
  },
  {
   "cell_type": "code",
   "execution_count": 14,
   "metadata": {},
   "outputs": [
    {
     "name": "stdout",
     "output_type": "stream",
     "text": [
      "Number of people with higher weights for component 2: 3\n"
     ]
    }
   ],
   "source": [
    "print('Number of people with higher weights for component 2: ' + str(groceries()[-1]))"
   ]
  },
  {
   "cell_type": "markdown",
   "metadata": {},
   "source": [
    "- Apply SKLearn's NMF implementation to the `artist_user.csv` dataset\n",
    "- Find the optimal rank to use in the `discover_weekly()` function's model"
   ]
  },
  {
   "cell_type": "code",
   "execution_count": null,
   "metadata": {},
   "outputs": [],
   "source": [
    "def rank_calculation(file='artist_user.csv'):\n",
    "    \"\"\"\n",
    "    Calculate and return the optimal rank of the specified file\n",
    "    if the rank exists.\n",
    "    \"\"\"\n",
    "    # Read the data\n",
    "    df = pd.read_csv(file,index_col=0)\n",
    "    \n",
    "    # Calculate benchmark value\n",
    "    benchmark = np.linalg.norm(df, ord='fro') * 0.0001\n",
    "    \n",
    "    # Iterate through various values of rank to find optimal\n",
    "    rank = 3\n",
    "    while True:\n",
    "        \n",
    "        # initialize the model\n",
    "        model = NMF(n_components=rank, init='random', random_state=0, max_iter=500)\n",
    "        W = model.fit_transform(df)\n",
    "        H = model.components_\n",
    "        V = W @ H\n",
    "        \n",
    "        # Calculate RMSE of original df and new V\n",
    "        RMSE = np.sqrt(mean_squared_error(df, V))\n",
    "        \n",
    "        if RMSE < benchmark:\n",
    "            return rank, V\n",
    "        \n",
    "        # Increment rank if RMSE isn't smaller than the benchmark\n",
    "        rank += 1\n",
    "        "
   ]
  },
  {
   "cell_type": "code",
   "execution_count": 7,
   "metadata": {},
   "outputs": [],
   "source": [
    "### Spotify recommender ###\n",
    "def discover_weekly(userid):\n",
    "    \"\"\"\n",
    "    Create the recommended weekly 30 new artists list for a given user\n",
    "    \"\"\"\n",
    "    # Load the data\n",
    "    df = pd.read_csv('artist_user.csv', index_col=0)\n",
    "    artist_df = pd.read_csv('artists.csv', index_col=0)\n",
    "    \n",
    "    # Decompose the dataset using sklearn NMF\n",
    "    model = NMF(n_components=13)\n",
    "    model.fit(df)\n",
    "    \n",
    "    # Turn H, W, and V into pandas df's for future use\n",
    "    H = pd.DataFrame(model.components_)    \n",
    "    W = pd.DataFrame(model.transform(df))    \n",
    "    V = pd.DataFrame(np.dot(W,H), columns=df.columns)\n",
    "    V.index = df.index\n",
    "    \n",
    "    # Find the row corresponding to the target user, sort it\n",
    "    user_row = V.loc[userid]    \n",
    "    user_row = user_row.sort_values(ascending=False)\n",
    "    \n",
    "    # Get the top 30 artists that the user hasn't listened to\n",
    "    top_30 = []    \n",
    "    for artist in user_row.index:\n",
    "        if df[artist].loc[userid] == 0: # Listen count is 0\n",
    "            top_30.append(artist)\n",
    "            \n",
    "        if len(top_30) == 30: # Quit when we have the top 30\n",
    "            break\n",
    "        \n",
    "    # Get the names of the artists based on their artist ID\n",
    "    top_30_artists = []\n",
    "    for artist in top_30:\n",
    "        top_30_artists.append([artist_df.loc[int(artist)][0]])\n",
    "    \n",
    "    return top_30_artists"
   ]
  },
  {
   "cell_type": "markdown",
   "metadata": {},
   "source": [
    "- Run `discover_weekly()` for `userid` $=2$ to find $30$ artists that they might like but haven't listened to yet"
   ]
  },
  {
   "cell_type": "code",
   "execution_count": 21,
   "metadata": {},
   "outputs": [
    {
     "name": "stdout",
     "output_type": "stream",
     "text": [
      "Discover Weekly Artists for userid 2\n",
      "1: ['Britney Spears']\n",
      "2: ['Avril Lavigne']\n",
      "3: ['Rihanna']\n",
      "4: ['Paramore']\n",
      "5: ['Christina Aguilera']\n",
      "6: ['U2']\n",
      "7: ['The Devil Wears Prada']\n",
      "8: ['Muse']\n",
      "9: ['Hadouken!']\n",
      "10: ['Ke$ha']\n",
      "11: ['Good Charlotte']\n",
      "12: ['Linkin Park']\n",
      "13: ['Enter Shikari']\n",
      "14: ['Katy Perry']\n",
      "15: ['Miley Cyrus']\n",
      "16: ['Taylor Swift']\n",
      "17: ['Beyoncé']\n",
      "18: ['Asking Alexandria']\n",
      "19: ['The Veronicas']\n",
      "20: ['Mariah Carey']\n",
      "21: ['Martin L. Gore']\n",
      "22: ['Dance Gavin Dance']\n",
      "23: ['Erasure']\n",
      "24: ['In Flames']\n",
      "25: ['3OH!3']\n",
      "26: ['Blur']\n",
      "27: ['Kelly Clarkson']\n",
      "28: ['Justin Bieber']\n",
      "29: ['Alesana']\n",
      "30: ['Ashley Tisdale']\n"
     ]
    }
   ],
   "source": [
    "userid = 2\n",
    "artists = discover_weekly(userid)\n",
    "print(f'Discover Weekly Artists for userid {userid}')\n",
    "for i, artist in enumerate(artists):\n",
    "    print(f'{i+1}: {artist}')"
   ]
  }
 ],
 "metadata": {
  "kernelspec": {
   "display_name": "Python 3 (ipykernel)",
   "language": "python",
   "name": "python3"
  },
  "language_info": {
   "codemirror_mode": {
    "name": "ipython",
    "version": 3
   },
   "file_extension": ".py",
   "mimetype": "text/x-python",
   "name": "python",
   "nbconvert_exporter": "python",
   "pygments_lexer": "ipython3",
   "version": "3.7.7"
  }
 },
 "nbformat": 4,
 "nbformat_minor": 2
}
